{
 "cells": [
  {
   "cell_type": "code",
   "execution_count": 1,
   "metadata": {},
   "outputs": [
    {
     "name": "stderr",
     "output_type": "stream",
     "text": [
      "/home/christian/miniconda3/envs/MMM/lib/python3.11/site-packages/tqdm/auto.py:21: TqdmWarning: IProgress not found. Please update jupyter and ipywidgets. See https://ipywidgets.readthedocs.io/en/stable/user_install.html\n",
      "  from .autonotebook import tqdm as notebook_tqdm\n"
     ]
    }
   ],
   "source": [
    "from miditok import MMM, TokSequence\n",
    "from symusic import Score\n",
    "tokenizer = MMM(params=\"/home/christian/MIDI-RWKV/src/tokenizer/tokenizer_with_acs.json\")"
   ]
  },
  {
   "cell_type": "code",
   "execution_count": 3,
   "metadata": {},
   "outputs": [
    {
     "name": "stdout",
     "output_type": "stream",
     "text": [
      "None\n",
      "TokSequence(tokens=['Program_-1'], ids=[526], bytes='', events=[], are_ids_encoded=False, _ticks_bars=[], _ticks_beats=[], _ids_decoded=[])\n",
      "Score(ttype=Tick, tpq=24, begin=0, end=0, tracks=0, notes=0, time_sig=1, key_sig=0, markers=0)\n"
     ]
    }
   ],
   "source": [
    "token_id = 526\n",
    "# add print(tokens) after line 1947 in miditok/midi_tokenizer.py\n",
    "# 0-8 correspond to indices in special_tokens\n",
    "print(tokenizer.decode_token_ids([token_id]))\n",
    "print(tokenizer.decode([token_id]))"
   ]
  }
 ],
 "metadata": {
  "kernelspec": {
   "display_name": "MMM",
   "language": "python",
   "name": "python3"
  },
  "language_info": {
   "codemirror_mode": {
    "name": "ipython",
    "version": 3
   },
   "file_extension": ".py",
   "mimetype": "text/x-python",
   "name": "python",
   "nbconvert_exporter": "python",
   "pygments_lexer": "ipython3",
   "version": "3.11.11"
  }
 },
 "nbformat": 4,
 "nbformat_minor": 2
}
